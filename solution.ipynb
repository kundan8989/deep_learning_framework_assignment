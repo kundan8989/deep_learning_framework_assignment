{
 "cells": [
  {
   "cell_type": "markdown",
   "id": "fcc1112c-21f5-4431-8543-99e12f6e4adb",
   "metadata": {},
   "source": [
    "# Practical Questions"
   ]
  },
  {
   "cell_type": "markdown",
   "id": "cbcb02c9-40d8-4847-a690-2525905d4688",
   "metadata": {},
   "source": [
    "### 1.What is TensorFlow 2.0, and how is it different from TensorFlow 1.x\n",
    "TensorFlow 2.0 is a major update to the TensorFlow machine learning framework, released by Google. It was designed to address the usability challenges of TensorFlow 1.x by simplifying APIs, improving integration with popular tools like Keras, and adopting more Pythonic programming practices.\n",
    "\n",
    "key differences is given below:-\n",
    "\n",
    "\n",
    "\n",
    "\n",
    "\n",
    "\n",
    "| Feature                     | TensorFlow 1.x                                        | TensorFlow 2.0                                                                    |\n",
    "| --------------------------- | ----------------------------------------------------- | --------------------------------------------------------------------------------- |\n",
    "| **Eager Execution**         | Disabled by default (uses static computation graph)   | **Enabled by default** (uses dynamic graph for immediate evaluation)              |\n",
    "| **Keras Integration**       | Keras was a separate library (`tf.keras` was limited) | **`tf.keras` is the default high-level API**                                      |\n",
    "| **Session-based Execution** | Requires `tf.Session()` and `sess.run()`              | **No sessions required** — operations execute immediately                         |\n",
    "| **API Complexity**          | Multiple overlapping APIs, low-level code common      | **Simplified and unified APIs**, focused on usability                             |\n",
    "| **Model Building**          | Static computation graph, hard to debug               | Dynamic computation graph, **easier debugging with Python tools**                 |\n",
    "| **Control Flow**            | TensorFlow-style loops (`tf.while_loop`, etc.)        | Native Python loops (e.g., `for`, `if`) work naturally                            |\n",
    "| **Distributed Training**    | Complicated, required low-level configurations        | High-level APIs like `tf.distribute.Strategy` simplify this                       |\n",
    "| **Compatibility**           | Many legacy APIs and deprecated functions             | Deprecated APIs removed, **cleaner design**                                       |\n",
    "| **tf.function**             | Not available                                         | **New `@tf.function` decorator** to convert Python functions to TensorFlow graphs |\n"
   ]
  },
  {
   "cell_type": "markdown",
   "id": "a5439dce-a44d-4303-a138-ed479a79a264",
   "metadata": {},
   "source": [
    "### 2.How do you install TensorFlow 2.0\n",
    "To install TensorFlow 2.0, you can use pip, Python's package manager.\n",
    "command is given below\n",
    "##### pip install tensorflow==2.0.0\n"
   ]
  },
  {
   "cell_type": "markdown",
   "id": "6d1d3c7f-6267-4234-a2ed-628cd98d7cb8",
   "metadata": {},
   "source": [
    "### 3.What is the primary function of the tf.function in TensorFlow 2.0\n",
    "The primary function of tf.function in TensorFlow 2.0 is to convert a Python function into a high-performance TensorFlow graph."
   ]
  },
  {
   "cell_type": "markdown",
   "id": "c38ac980-ff92-480d-8bd0-43d174fa9624",
   "metadata": {},
   "source": [
    "### 4.What is the purpose of the Model class in TensorFlow 2.0\n",
    "In TensorFlow 2.0, the Model class serves as the core class for defining and training neural network models. It is part of the tf.keras API, which is TensorFlow's high-level API for building and training deep learning models."
   ]
  },
  {
   "cell_type": "markdown",
   "id": "224f2ae5-e07d-49a0-9187-3699a9ea8ecf",
   "metadata": {},
   "source": [
    "### 5.How do you create a neural network using TensorFlow 2.0\n",
    "To create a neural network using TensorFlow 2.0, you typically use the high-level Keras API (tf.keras), which is tightly integrated into TensorFlow 2.x.\n",
    "\n",
    "sample is given below:-\n"
   ]
  },
  {
   "cell_type": "code",
   "execution_count": 1,
   "id": "0091679c-bb2b-4046-a64d-d23f7c3ff923",
   "metadata": {},
   "outputs": [],
   "source": [
    "import tensorflow as tf\n",
    "from tensorflow.keras.models import Sequential\n",
    "from tensorflow.keras.layers import Dense\n"
   ]
  },
  {
   "cell_type": "code",
   "execution_count": 2,
   "id": "148f7ea4-31d9-4a33-873c-58c05216a974",
   "metadata": {},
   "outputs": [
    {
     "name": "stderr",
     "output_type": "stream",
     "text": [
      "C:\\Python312\\Lib\\site-packages\\keras\\src\\layers\\core\\dense.py:87: UserWarning: Do not pass an `input_shape`/`input_dim` argument to a layer. When using Sequential models, prefer using an `Input(shape)` object as the first layer in the model instead.\n",
      "  super().__init__(activity_regularizer=activity_regularizer, **kwargs)\n"
     ]
    }
   ],
   "source": [
    "model = Sequential([\n",
    "    Dense(64, activation='relu', input_shape=(10,)),  # Input layer + hidden layer\n",
    "    Dense(32, activation='relu'),                     # Another hidden layer\n",
    "    Dense(1)                                          # Output layer (regression)\n",
    "])\n"
   ]
  },
  {
   "cell_type": "code",
   "execution_count": 4,
   "id": "5e7d54fd-49d9-48ed-98ee-76d3594e2cfd",
   "metadata": {},
   "outputs": [],
   "source": [
    "model.compile(optimizer='adam',\n",
    "              loss='mean_squared_error',\n",
    "              metrics=['mae'])  # For regression; use 'accuracy' for classification\n"
   ]
  },
  {
   "cell_type": "code",
   "execution_count": 5,
   "id": "4f56431a-f055-475a-99e3-09390f67e486",
   "metadata": {},
   "outputs": [
    {
     "name": "stdout",
     "output_type": "stream",
     "text": [
      "Epoch 1/10\n",
      "\u001b[1m13/13\u001b[0m \u001b[32m━━━━━━━━━━━━━━━━━━━━\u001b[0m\u001b[37m\u001b[0m \u001b[1m3s\u001b[0m 7ms/step - loss: 0.0877 - mae: 0.2479\n",
      "Epoch 2/10\n",
      "\u001b[1m13/13\u001b[0m \u001b[32m━━━━━━━━━━━━━━━━━━━━\u001b[0m\u001b[37m\u001b[0m \u001b[1m0s\u001b[0m 3ms/step - loss: 0.0660 - mae: 0.2159 \n",
      "Epoch 3/10\n",
      "\u001b[1m13/13\u001b[0m \u001b[32m━━━━━━━━━━━━━━━━━━━━\u001b[0m\u001b[37m\u001b[0m \u001b[1m0s\u001b[0m 3ms/step - loss: 0.0668 - mae: 0.2139  \n",
      "Epoch 4/10\n",
      "\u001b[1m13/13\u001b[0m \u001b[32m━━━━━━━━━━━━━━━━━━━━\u001b[0m\u001b[37m\u001b[0m \u001b[1m0s\u001b[0m 3ms/step - loss: 0.0663 - mae: 0.2071 \n",
      "Epoch 5/10\n",
      "\u001b[1m13/13\u001b[0m \u001b[32m━━━━━━━━━━━━━━━━━━━━\u001b[0m\u001b[37m\u001b[0m \u001b[1m0s\u001b[0m 3ms/step - loss: 0.0656 - mae: 0.2079 \n",
      "Epoch 6/10\n",
      "\u001b[1m13/13\u001b[0m \u001b[32m━━━━━━━━━━━━━━━━━━━━\u001b[0m\u001b[37m\u001b[0m \u001b[1m0s\u001b[0m 4ms/step - loss: 0.0685 - mae: 0.2139  \n",
      "Epoch 7/10\n",
      "\u001b[1m13/13\u001b[0m \u001b[32m━━━━━━━━━━━━━━━━━━━━\u001b[0m\u001b[37m\u001b[0m \u001b[1m0s\u001b[0m 3ms/step - loss: 0.0488 - mae: 0.1768 \n",
      "Epoch 8/10\n",
      "\u001b[1m13/13\u001b[0m \u001b[32m━━━━━━━━━━━━━━━━━━━━\u001b[0m\u001b[37m\u001b[0m \u001b[1m0s\u001b[0m 5ms/step - loss: 0.0515 - mae: 0.1809 \n",
      "Epoch 9/10\n",
      "\u001b[1m13/13\u001b[0m \u001b[32m━━━━━━━━━━━━━━━━━━━━\u001b[0m\u001b[37m\u001b[0m \u001b[1m0s\u001b[0m 4ms/step - loss: 0.0508 - mae: 0.1809 \n",
      "Epoch 10/10\n",
      "\u001b[1m13/13\u001b[0m \u001b[32m━━━━━━━━━━━━━━━━━━━━\u001b[0m\u001b[37m\u001b[0m \u001b[1m0s\u001b[0m 4ms/step - loss: 0.0515 - mae: 0.1755 \n"
     ]
    },
    {
     "data": {
      "text/plain": [
       "<keras.src.callbacks.history.History at 0x16269de5b20>"
      ]
     },
     "execution_count": 5,
     "metadata": {},
     "output_type": "execute_result"
    }
   ],
   "source": [
    "import numpy as np\n",
    "\n",
    "# Dummy data (e.g., 100 samples, 10 features)\n",
    "x_train = np.random.rand(100, 10)\n",
    "y_train = np.random.rand(100, 1)\n",
    "\n",
    "model.fit(x_train, y_train, epochs=10, batch_size=8)\n"
   ]
  },
  {
   "cell_type": "markdown",
   "id": "ad606daf-86e1-4d61-b034-fabad3426c9a",
   "metadata": {},
   "source": [
    "### 6.What is the importance of Tensor Space in TensorFlow\n",
    "In TensorFlow 2, the concept of Tensor space is fundamental, though it's not a formal class or function called TensorSpace. Instead, the term typically refers to the abstract multi-dimensional space in which tensors (n-dimensional arrays) exist and operate.\n",
    "\n",
    "\n",
    "Importance of Tensor Space in TensorFlow 2\n",
    "1. Core Data Structure\n",
    "All data in TensorFlow (inputs, weights, outputs) are represented as tensors.\n",
    "\n",
    "A tensor space refers to the possible set of values and shapes that tensors can have.\n",
    "\n",
    "2. Multi-Dimensional Flexibility\n",
    "Tensors can have arbitrary rank (0D, 1D, 2D, ..., nD), making them suitable for:\n",
    "\n",
    "Scalars (0D)\n",
    "\n",
    "Vectors (1D)\n",
    "\n",
    "Matrices (2D)\n",
    "\n",
    "Images (4D: batch, height, width, channels)\n",
    "\n",
    "Sequences, videos, etc.\n",
    "\n",
    "3. Mathematical Operations in Tensor Space\n",
    "TensorFlow provides mathematical operations that act on tensors in their respective spaces:\n",
    "\n",
    "Dot products\n",
    "\n",
    "4. Foundation of Neural Network Layers\n",
    "Layers expect inputs of specific tensor shapes.\n",
    "\n",
    "Each layer transforms data from one tensor space to another.\n",
    "\n",
    "For example: Dense layer maps input from ℝⁿ to ℝᵐ\n",
    "\n",
    "5. Backpropagation in Tensor Space\n",
    "Gradients are computed with respect to tensors.\n",
    "\n",
    "TensorFlow’s tf.GradientTape operates over the tensor space to compute gradients during training.\n"
   ]
  },
  {
   "cell_type": "markdown",
   "id": "098affa2-c435-4795-9ae1-e2293520a0c4",
   "metadata": {},
   "source": [
    "### 7.How can TensorBoard be integrated with TensorFlow 2.0\n",
    "TensorBoard is TensorFlow’s powerful visualization tool for tracking metrics like loss, accuracy, model graphs, histograms, learning rates, and more.\n",
    "\n",
    "In TensorFlow 2.0, integrating TensorBoard is much easier and more seamless compared to TensorFlow 1.x.\n",
    "\n",
    "steps is given below:\n",
    "\n",
    "| Step | Description                                  |\n",
    "| ---- | -------------------------------------------- |\n",
    "| 1    | Import `TensorBoard` callback                |\n",
    "| 2    | Define `log_dir` using `datetime`            |\n",
    "| 3    | Pass `tensorboard_callback` to `model.fit()` |\n",
    "| 4    | Run `tensorboard --logdir=...`               |\n",
    "| 5    | Visit `localhost:6006` to view logs          |\n",
    "\n"
   ]
  },
  {
   "cell_type": "markdown",
   "id": "e0230ff3-1ab6-4419-8e37-8018bf98e49d",
   "metadata": {},
   "source": [
    "### 8. What is the purpose of TensorFlow Playground\n",
    "The purpose of TensorFlow Playground is to provide an interactive, visual environment to help users understand how neural networks learn and make decisions.\n",
    "\n",
    "TensorFlow Playground is not part of the TensorFlow 2.0 library, but a browser-based educational tool built using JavaScript and D3.js.\n",
    "\n",
    "\n",
    "| Feature                  | Purpose                                               |\n",
    "| ------------------------ | ----------------------------------------------------- |\n",
    "| No-code neural network   | Learn how models work without writing code            |\n",
    "| Real-time visualization  | See training progress and decision boundaries         |\n",
    "| Parameter tuning         | Understand impact of activations, neurons, and layers |\n",
    "| Overfitting/Underfitting | Visual feedback on generalization behavior            |\n"
   ]
  },
  {
   "cell_type": "markdown",
   "id": "22b1e2b5-352f-48bd-a6a0-2e0a21930cab",
   "metadata": {},
   "source": [
    "### 9.What is Netron, and how is it useful for deep learning models\n",
    "Netron is an open-source viewer for visualizing deep learning models, including their layers, parameters, shapes, and operations. It's available as a web app, desktop app, or Python server.\n",
    "\n",
    "usefullness in deep learning is given below:-\n",
    "\n",
    "| Purpose                    | How Netron Helps                                                            |\n",
    "| -------------------------- | --------------------------------------------------------------------------- |\n",
    "|  **Model Inspection**     | Visualizes the architecture: layer types, shapes, data flow                 |\n",
    "|  **Format Compatibility** | Supports **TensorFlow, Keras, PyTorch, ONNX, Caffe, CoreML**, and others    |\n",
    "|  **Debugging**            | Helps spot **shape mismatches**, **unused nodes**, or **layer errors**      |\n",
    "|  **Documentation**        | Useful for explaining and sharing model design with teams                   |\n",
    "|  **Educational**          | Ideal for students and researchers to understand network structure visually |\n",
    "|  **No Code Required**     | Drag-and-drop UI, zero setup for quick inspection                           |\n",
    "\n",
    "\n"
   ]
  },
  {
   "cell_type": "markdown",
   "id": "a73f0ad5-0429-42c7-8e5a-0cb735d0c030",
   "metadata": {},
   "source": [
    "### 10.What is the difference between TensorFlow and PyTorch\n",
    "TensorFlow and PyTorch are the two most widely used deep learning frameworks. While both are powerful and capable, they differ significantly in design philosophy, syntax, execution style, and ecosystem tools.\n",
    "\n",
    "differences is givven below:-\n",
    "\n",
    "\n",
    "| Feature                    | **TensorFlow (TF)**                                                | **PyTorch**                                            |\n",
    "| -------------------------- | ------------------------------------------------------------------ | ------------------------------------------------------ |\n",
    "| **Developer**              | Google                                                             | Facebook (Meta)                                        |\n",
    "| **Execution Style**        | Static graph (via `tf.function`)                                   | Dynamic graph (eager execution by default)             |\n",
    "| **Ease of Debugging**      | Harder (graph mode hides Python code)                              | Easier (native Python execution)                       |\n",
    "| **Syntax**                 | More verbose, uses `@tf.function` for performance                  | More Pythonic and intuitive                            |\n",
    "| **Model Building APIs**    | `tf.keras.Sequential`, Functional, Subclassing                     | `nn.Module` (subclassing)                              |\n",
    "| **Training Loop**          | High-level API (`model.fit`) or custom loop with `tf.GradientTape` | Custom training loops with native Python               |\n",
    "| **Visualization**          | TensorBoard (native and mature)                                    | TensorBoard (via `torch.utils.tensorboard`)            |\n",
    "| **Mobile/Edge Deployment** | TensorFlow Lite, TensorFlow\\.js                                    | PyTorch Mobile                                         |\n",
    "| **Production Deployment**  | TensorFlow Serving, TFX                                            | TorchServe, ONNX export                                |\n",
    "| **Community & Ecosystem**  | Larger enterprise ecosystem (Google Cloud, TFX, etc.)              | More popular in academic research                      |\n",
    "| **Performance**            | Optimized via XLA, better for production                           | Faster prototyping, recently improved deployment tools |\n",
    "| **Supported File Formats** | `.pb`, `.tflite`, `.h5`                                            | `.pt`, `.pth`, `.onnx`                                 |\n"
   ]
  },
  {
   "cell_type": "markdown",
   "id": "0825013f-344f-429c-b064-c230a98e3a0d",
   "metadata": {},
   "source": [
    "### 11.How do you install PyTorch\n",
    "To install PyTorch, use pip or conda based on your environment. \n",
    "command is given below:\n",
    "\n",
    "####  pip install torch torchvision torchaudio\n"
   ]
  },
  {
   "cell_type": "markdown",
   "id": "010d5b2d-856a-4913-b594-7a1b8d8fc71c",
   "metadata": {},
   "source": [
    "### 12.What is the basic structure of a PyTorch neural network\n",
    "The basic structure of a PyTorch neural network involves:\n",
    "\n",
    "1. Defining a custom model class by subclassing torch.nn.Module.\n",
    "\n",
    "2. Initializing layers in the __init__ method.\n",
    "\n",
    "3. Defining the forward pass in the forward() method.\n",
    "\n",
    "4. Creating an instance of the model.\n",
    "\n",
    "5. Training the model using a loop with loss computation and backpropagation."
   ]
  },
  {
   "cell_type": "markdown",
   "id": "c6a9cd8e-b7a3-4eb2-93e4-6f04642f6b36",
   "metadata": {},
   "source": [
    "### 13.What is the significance of tensors in PyTorch\n",
    "In PyTorch, tensors are the fundamental data structure — they are to PyTorch what arrays are to NumPy, but with additional power for deep learning tasks, especially on GPUs.\n",
    "\n",
    "| Feature             | Tensor Significance                |\n",
    "| ------------------- | ---------------------------------- |\n",
    "| Data Storage        | All model inputs, outputs, weights |\n",
    "| GPU Support         | Efficient training via CUDA        |\n",
    "| Differentiation     | Enables gradient computation       |\n",
    "| NumPy Compatibility | Easy data interchange              |\n",
    "| Shape Flexibility   | Suitable for any dimensional data  |\n"
   ]
  },
  {
   "cell_type": "markdown",
   "id": "eb832881-177e-4e24-a311-5757bd72d2de",
   "metadata": {},
   "source": [
    "### 14.What is the difference between torch.Tensor and torch.cuda.Tensor in PyTorch\n",
    "In PyTorch, both torch.Tensor and torch.cuda.Tensor represent n-dimensional arrays, but the key difference lies in where the data is stored and how it's processed:\n",
    "key differences is given below:-\n",
    "\n",
    "| Aspect          | `torch.Tensor` (CPU Tensor)             | `torch.cuda.Tensor` (GPU Tensor)                 |\n",
    "| --------------- | --------------------------------------- | ------------------------------------------------ |\n",
    "| **Location**    | Stored in **CPU memory**                | Stored in **GPU memory (CUDA)**                  |\n",
    "| **Device**      | `'cpu'`                                 | `'cuda'`                                         |\n",
    "| **Usage**       | Default tensor type for most operations | Used for high-speed computations on NVIDIA GPUs  |\n",
    "| **Performance** | Slower for large-scale tensor ops       | Faster for training deep learning models         |\n",
    "| **Conversion**  | `tensor.to('cuda')`                     | `tensor.to('cpu')`                               |\n",
    "| **Creation**    | `torch.tensor([..])`                    | `torch.tensor([..]).to('cuda')` or use `.cuda()` |\n"
   ]
  },
  {
   "cell_type": "markdown",
   "id": "04c94c09-9fa8-45fa-b8ee-2e95711dded2",
   "metadata": {},
   "source": [
    "### 15.What is the purpose of the torch.optim module in PyTorch\n",
    "The torch.optim module in PyTorch provides a set of optimization algorithms that are used to update model parameters during training.\n",
    "\n",
    "\n",
    "#### Purpose of torch.optim\n",
    "The main goal is to minimize the loss function by adjusting the weights (model.parameters()) using optimization techniques like Stochastic Gradient Descent (SGD), Adam, etc.\n",
    "\n"
   ]
  },
  {
   "cell_type": "markdown",
   "id": "94f46bf9-0fd4-4e11-9b19-04306b1996eb",
   "metadata": {},
   "source": [
    "### 16.What are some common activation functions used in neural networks\n",
    "In neural networks, activation functions introduce non-linearity, allowing the model to learn complex patterns. Without them, a neural network would behave like a simple linear model, no matter how many layers it has.\n",
    "\n",
    "| Function   | Output Range       | Use Case                            |\n",
    "| ---------- | ------------------ | ----------------------------------- |\n",
    "| ReLU       | \\[0, ∞)            | Hidden layers (default)             |\n",
    "| Leaky ReLU | (-∞, ∞)            | Hidden layers with dead ReLU issue  |\n",
    "| Sigmoid    | (0, 1)             | Binary classification (output)      |\n",
    "| Tanh       | (-1, 1)            | Hidden layers (better than sigmoid) |\n",
    "| Softmax    | \\[0, 1], sums to 1 | Multi-class classification (output) |\n",
    "| ELU        | (-α, ∞)            | Deep networks where ReLU struggles  |\n"
   ]
  },
  {
   "cell_type": "markdown",
   "id": "7d93e10b-cc80-4d49-9a02-b8bbd5cf901b",
   "metadata": {},
   "source": [
    "### 17.What is the difference between torch.nn.Module and torch.nn.Sequential in PyTorch\n",
    "In PyTorch, both torch.nn.Module and torch.nn.Sequential are used to define neural network architectures, but they differ in flexibility, complexity, and use cases.\n",
    "\n",
    "\n",
    "| Feature                     | `torch.nn.Module`                                               | `torch.nn.Sequential`                                      |\n",
    "| --------------------------- | --------------------------------------------------------------- | ---------------------------------------------------------- |\n",
    "| **Flexibility**             | **Highly flexible** — allows any custom logic in `forward()`    | **Less flexible** — only supports layers in a linear stack |\n",
    "| **Use Cases**               | Complex models, branching, conditional execution, custom layers | Simple feed-forward (linear) models                        |\n",
    "| **Code Structure**          | Subclassed class with `__init__()` and `forward()`              | One-liner model definition                                 |\n",
    "| **Forward Method**          | Must define `forward(self, x)`                                  | Automatically chains layers in the given order             |\n",
    "| **Debugging/Customization** | Easier for advanced debugging and control                       | Limited control over internals                             |\n"
   ]
  },
  {
   "cell_type": "markdown",
   "id": "aabf5fc5-9e2d-4612-ba18-fd343a3752f7",
   "metadata": {},
   "source": [
    "### 18.How can you monitor training progress in TensorFlow 2.0\n",
    "In TensorFlow 2.0, you can monitor training progress using multiple built-in tools and techniques. The most effective and widely used method is TensorBoard, but you can also log metrics manually or use callbacks to track training behavior.\n",
    "\n",
    "some are the methods to monitor the training process:-\n",
    "\n",
    "| Method             | Use Case                            |\n",
    "| ------------------ | ----------------------------------- |\n",
    "| `model.fit()` logs | Quick terminal output               |\n",
    "| `TensorBoard`      | Real-time interactive visualization |\n",
    "| `History` object   | Programmatic access to metrics      |\n",
    "| Custom callbacks   | Custom logging, stopping, alerting  |\n"
   ]
  },
  {
   "cell_type": "markdown",
   "id": "5bfd27e3-9ecf-420e-96a7-4030a0abda52",
   "metadata": {},
   "source": [
    "### 19.How does the Keras API fit into TensorFlow 2.0\n",
    "In TensorFlow 2.0, the Keras API is the official high-level API for building and training deep learning models. It is tightly integrated and available as tf.keras.\n",
    "\n",
    "#### How Keras Fits into TensorFlow 2.0\n",
    "1. Built-in and Unified\n",
    "tf.keras is not separate like in TensorFlow 1.x.\n",
    "\n",
    "It’s fully integrated into TensorFlow 2.0 as the default high-level API.\n",
    "\n",
    "2. Simplified Model Building\n",
    "You can quickly define models using:\n",
    "\n",
    "Sequential API for simple stacks\n",
    "\n",
    "Functional API for more complex architectures\n",
    "\n",
    "Model subclassing for custom models"
   ]
  },
  {
   "cell_type": "markdown",
   "id": "a0b7d525-ed03-4db8-ac6a-f43586a9904f",
   "metadata": {},
   "source": [
    "### 20.What is an example of a deep learning project that can be implemented using TensorFlow 2.0\n",
    "A great example of a deep learning project you can implement using TensorFlow 2.0 is a:\n",
    "Image Classification Model Using CIFAR-10 Dataset\n",
    "This project trains a convolutional neural network (CNN) to classify small 32x32 images into one of 10 categories such as airplane, cat, truck, etc."
   ]
  },
  {
   "cell_type": "markdown",
   "id": "a295df2e-4404-40eb-a07e-e7b3e3b7282d",
   "metadata": {},
   "source": [
    "### 21.What is the main advantage of using pre-trained models in TensorFlow and PyTorch?\n",
    "The main advantage of using pre-trained models in TensorFlow and PyTorch is:\n",
    "\n",
    "You save time, data, and compute by reusing models trained on large datasets like ImageNet, and fine-tune them for your own task.\n",
    "\n",
    "\n",
    "some od the key advantages of using pretrained model is given below:-\n",
    "| Benefit                      | Description                              |\n",
    "| ---------------------------- | ---------------------------------------- |\n",
    "| Time-saving                  | Skip training from scratch               |\n",
    "| Resource-efficient           | Requires less data and compute           |\n",
    "| Improved accuracy            | Leverages large-scale training knowledge |\n",
    "| Easier experimentation       | Quickly switch architectures             |\n",
    "| Useful for transfer learning | Custom-task fine-tuning is simple        |\n",
    "\n"
   ]
  },
  {
   "cell_type": "markdown",
   "id": "b3bedd38-9aaf-4845-9998-8b815b320c1b",
   "metadata": {},
   "source": [
    "# Practical questions"
   ]
  },
  {
   "cell_type": "code",
   "execution_count": 7,
   "id": "8313a872-afef-47b5-89fd-1b98e5e84d89",
   "metadata": {},
   "outputs": [
    {
     "name": "stdout",
     "output_type": "stream",
     "text": [
      "TensorFlow version: 2.17.0\n"
     ]
    }
   ],
   "source": [
    "# 1. How do you install and verify that TensorFlow 2.0 was installed successfully\n",
    "\n",
    "#to install use the command \n",
    "\n",
    "#pip install tensorflow\n",
    "\n",
    "\n",
    "#to verify\n",
    "import tensorflow as tf\n",
    "print(\"TensorFlow version:\", tf.__version__)\n",
    "\n"
   ]
  },
  {
   "cell_type": "code",
   "execution_count": 8,
   "id": "d75dd875-7f76-4fa8-869f-d58839eecd85",
   "metadata": {},
   "outputs": [
    {
     "name": "stdout",
     "output_type": "stream",
     "text": [
      "Result: 8\n"
     ]
    }
   ],
   "source": [
    "# 2.How can you define a simple function in TensorFlow 2.0 to perform addition\n",
    "\n",
    "import tensorflow as tf\n",
    "\n",
    "def add_numbers(x, y):\n",
    "    return tf.add(x, y)\n",
    "\n",
    "# Example\n",
    "a = tf.constant(3)\n",
    "b = tf.constant(5)\n",
    "result = add_numbers(a, b)\n",
    "print(\"Result:\", result.numpy())  # Output: 8\n"
   ]
  },
  {
   "cell_type": "code",
   "execution_count": 9,
   "id": "a624768e-e86d-46f1-8d98-c5071a3f51c6",
   "metadata": {},
   "outputs": [
    {
     "name": "stdout",
     "output_type": "stream",
     "text": [
      "Epoch 1/10\n",
      "\u001b[1m13/13\u001b[0m \u001b[32m━━━━━━━━━━━━━━━━━━━━\u001b[0m\u001b[37m\u001b[0m \u001b[1m2s\u001b[0m 8ms/step - loss: 0.5294 - mae: 0.6593\n",
      "Epoch 2/10\n",
      "\u001b[1m13/13\u001b[0m \u001b[32m━━━━━━━━━━━━━━━━━━━━\u001b[0m\u001b[37m\u001b[0m \u001b[1m0s\u001b[0m 6ms/step - loss: 0.1333 - mae: 0.2996 \n",
      "Epoch 3/10\n",
      "\u001b[1m13/13\u001b[0m \u001b[32m━━━━━━━━━━━━━━━━━━━━\u001b[0m\u001b[37m\u001b[0m \u001b[1m0s\u001b[0m 5ms/step - loss: 0.0906 - mae: 0.2575  \n",
      "Epoch 4/10\n",
      "\u001b[1m13/13\u001b[0m \u001b[32m━━━━━━━━━━━━━━━━━━━━\u001b[0m\u001b[37m\u001b[0m \u001b[1m0s\u001b[0m 7ms/step - loss: 0.0894 - mae: 0.2582 \n",
      "Epoch 5/10\n",
      "\u001b[1m13/13\u001b[0m \u001b[32m━━━━━━━━━━━━━━━━━━━━\u001b[0m\u001b[37m\u001b[0m \u001b[1m0s\u001b[0m 6ms/step - loss: 0.0885 - mae: 0.2493 \n",
      "Epoch 6/10\n",
      "\u001b[1m13/13\u001b[0m \u001b[32m━━━━━━━━━━━━━━━━━━━━\u001b[0m\u001b[37m\u001b[0m \u001b[1m0s\u001b[0m 6ms/step - loss: 0.0849 - mae: 0.2511 \n",
      "Epoch 7/10\n",
      "\u001b[1m13/13\u001b[0m \u001b[32m━━━━━━━━━━━━━━━━━━━━\u001b[0m\u001b[37m\u001b[0m \u001b[1m0s\u001b[0m 3ms/step - loss: 0.0829 - mae: 0.2476 \n",
      "Epoch 8/10\n",
      "\u001b[1m13/13\u001b[0m \u001b[32m━━━━━━━━━━━━━━━━━━━━\u001b[0m\u001b[37m\u001b[0m \u001b[1m0s\u001b[0m 3ms/step - loss: 0.0811 - mae: 0.2466 \n",
      "Epoch 9/10\n",
      "\u001b[1m13/13\u001b[0m \u001b[32m━━━━━━━━━━━━━━━━━━━━\u001b[0m\u001b[37m\u001b[0m \u001b[1m0s\u001b[0m 3ms/step - loss: 0.0743 - mae: 0.2357 \n",
      "Epoch 10/10\n",
      "\u001b[1m13/13\u001b[0m \u001b[32m━━━━━━━━━━━━━━━━━━━━\u001b[0m\u001b[37m\u001b[0m \u001b[1m0s\u001b[0m 4ms/step - loss: 0.0837 - mae: 0.2534 \n"
     ]
    },
    {
     "data": {
      "text/plain": [
       "<keras.src.callbacks.history.History at 0x16269f5af90>"
      ]
     },
     "execution_count": 9,
     "metadata": {},
     "output_type": "execute_result"
    }
   ],
   "source": [
    "# 3.How can you create a simple neural network in TensorFlow 2.0 with one hidden layer \n",
    "import tensorflow as tf\n",
    "from tensorflow.keras.models import Sequential\n",
    "from tensorflow.keras.layers import Dense\n",
    "\n",
    "# Step 1: Define the model\n",
    "model = Sequential([\n",
    "    Dense(64, activation='relu', input_shape=(10,)),  # Hidden layer with 64 units\n",
    "    Dense(1)  # Output layer (e.g., for regression)\n",
    "])\n",
    "\n",
    "# Step 2: Compile the model\n",
    "model.compile(optimizer='adam',\n",
    "              loss='mean_squared_error',\n",
    "              metrics=['mae'])\n",
    "\n",
    "# Step 3: Dummy training data (100 samples, 10 features)\n",
    "import numpy as np\n",
    "x_train = np.random.rand(100, 10)\n",
    "y_train = np.random.rand(100, 1)\n",
    "\n",
    "# Step 4: Train the model\n",
    "model.fit(x_train, y_train, epochs=10, batch_size=8)\n"
   ]
  },
  {
   "cell_type": "code",
   "execution_count": 10,
   "id": "e4194d98-d3e4-4366-bb45-b366a60a89cb",
   "metadata": {},
   "outputs": [
    {
     "name": "stdout",
     "output_type": "stream",
     "text": [
      "Epoch 1/20\n"
     ]
    },
    {
     "name": "stderr",
     "output_type": "stream",
     "text": [
      "C:\\Python312\\Lib\\site-packages\\keras\\src\\layers\\core\\dense.py:87: UserWarning: Do not pass an `input_shape`/`input_dim` argument to a layer. When using Sequential models, prefer using an `Input(shape)` object as the first layer in the model instead.\n",
      "  super().__init__(activity_regularizer=activity_regularizer, **kwargs)\n"
     ]
    },
    {
     "name": "stdout",
     "output_type": "stream",
     "text": [
      "\u001b[1m10/10\u001b[0m \u001b[32m━━━━━━━━━━━━━━━━━━━━\u001b[0m\u001b[37m\u001b[0m \u001b[1m2s\u001b[0m 42ms/step - loss: 0.1748 - mae: 0.3587 - val_loss: 0.0856 - val_mae: 0.2615\n",
      "Epoch 2/20\n",
      "\u001b[1m10/10\u001b[0m \u001b[32m━━━━━━━━━━━━━━━━━━━━\u001b[0m\u001b[37m\u001b[0m \u001b[1m0s\u001b[0m 12ms/step - loss: 0.0943 - mae: 0.2736 - val_loss: 0.1041 - val_mae: 0.2725\n",
      "Epoch 3/20\n",
      "\u001b[1m10/10\u001b[0m \u001b[32m━━━━━━━━━━━━━━━━━━━━\u001b[0m\u001b[37m\u001b[0m \u001b[1m0s\u001b[0m 9ms/step - loss: 0.0764 - mae: 0.2392 - val_loss: 0.0983 - val_mae: 0.2758\n",
      "Epoch 4/20\n",
      "\u001b[1m10/10\u001b[0m \u001b[32m━━━━━━━━━━━━━━━━━━━━\u001b[0m\u001b[37m\u001b[0m \u001b[1m0s\u001b[0m 10ms/step - loss: 0.0715 - mae: 0.2296 - val_loss: 0.1016 - val_mae: 0.2851\n",
      "Epoch 5/20\n",
      "\u001b[1m10/10\u001b[0m \u001b[32m━━━━━━━━━━━━━━━━━━━━\u001b[0m\u001b[37m\u001b[0m \u001b[1m0s\u001b[0m 35ms/step - loss: 0.0699 - mae: 0.2369 - val_loss: 0.1097 - val_mae: 0.2927\n",
      "Epoch 6/20\n",
      "\u001b[1m10/10\u001b[0m \u001b[32m━━━━━━━━━━━━━━━━━━━━\u001b[0m\u001b[37m\u001b[0m \u001b[1m0s\u001b[0m 15ms/step - loss: 0.0654 - mae: 0.2204 - val_loss: 0.1149 - val_mae: 0.2997\n",
      "Epoch 7/20\n",
      "\u001b[1m10/10\u001b[0m \u001b[32m━━━━━━━━━━━━━━━━━━━━\u001b[0m\u001b[37m\u001b[0m \u001b[1m0s\u001b[0m 15ms/step - loss: 0.0554 - mae: 0.2034 - val_loss: 0.1227 - val_mae: 0.3077\n",
      "Epoch 8/20\n",
      "\u001b[1m10/10\u001b[0m \u001b[32m━━━━━━━━━━━━━━━━━━━━\u001b[0m\u001b[37m\u001b[0m \u001b[1m0s\u001b[0m 14ms/step - loss: 0.0565 - mae: 0.1992 - val_loss: 0.1269 - val_mae: 0.3118\n",
      "Epoch 9/20\n",
      "\u001b[1m10/10\u001b[0m \u001b[32m━━━━━━━━━━━━━━━━━━━━\u001b[0m\u001b[37m\u001b[0m \u001b[1m0s\u001b[0m 11ms/step - loss: 0.0520 - mae: 0.2010 - val_loss: 0.1300 - val_mae: 0.3176\n",
      "Epoch 10/20\n",
      "\u001b[1m10/10\u001b[0m \u001b[32m━━━━━━━━━━━━━━━━━━━━\u001b[0m\u001b[37m\u001b[0m \u001b[1m0s\u001b[0m 12ms/step - loss: 0.0524 - mae: 0.1961 - val_loss: 0.1338 - val_mae: 0.3213\n",
      "Epoch 11/20\n",
      "\u001b[1m10/10\u001b[0m \u001b[32m━━━━━━━━━━━━━━━━━━━━\u001b[0m\u001b[37m\u001b[0m \u001b[1m0s\u001b[0m 12ms/step - loss: 0.0502 - mae: 0.1932 - val_loss: 0.1370 - val_mae: 0.3240\n",
      "Epoch 12/20\n",
      "\u001b[1m10/10\u001b[0m \u001b[32m━━━━━━━━━━━━━━━━━━━━\u001b[0m\u001b[37m\u001b[0m \u001b[1m0s\u001b[0m 11ms/step - loss: 0.0504 - mae: 0.1936 - val_loss: 0.1407 - val_mae: 0.3260\n",
      "Epoch 13/20\n",
      "\u001b[1m10/10\u001b[0m \u001b[32m━━━━━━━━━━━━━━━━━━━━\u001b[0m\u001b[37m\u001b[0m \u001b[1m0s\u001b[0m 9ms/step - loss: 0.0497 - mae: 0.1943 - val_loss: 0.1426 - val_mae: 0.3283\n",
      "Epoch 14/20\n",
      "\u001b[1m10/10\u001b[0m \u001b[32m━━━━━━━━━━━━━━━━━━━━\u001b[0m\u001b[37m\u001b[0m \u001b[1m0s\u001b[0m 8ms/step - loss: 0.0478 - mae: 0.1843 - val_loss: 0.1448 - val_mae: 0.3300\n",
      "Epoch 15/20\n",
      "\u001b[1m10/10\u001b[0m \u001b[32m━━━━━━━━━━━━━━━━━━━━\u001b[0m\u001b[37m\u001b[0m \u001b[1m0s\u001b[0m 9ms/step - loss: 0.0481 - mae: 0.1907 - val_loss: 0.1456 - val_mae: 0.3307\n",
      "Epoch 16/20\n",
      "\u001b[1m10/10\u001b[0m \u001b[32m━━━━━━━━━━━━━━━━━━━━\u001b[0m\u001b[37m\u001b[0m \u001b[1m0s\u001b[0m 9ms/step - loss: 0.0439 - mae: 0.1789 - val_loss: 0.1479 - val_mae: 0.3318\n",
      "Epoch 17/20\n",
      "\u001b[1m10/10\u001b[0m \u001b[32m━━━━━━━━━━━━━━━━━━━━\u001b[0m\u001b[37m\u001b[0m \u001b[1m0s\u001b[0m 10ms/step - loss: 0.0413 - mae: 0.1722 - val_loss: 0.1500 - val_mae: 0.3337\n",
      "Epoch 18/20\n",
      "\u001b[1m10/10\u001b[0m \u001b[32m━━━━━━━━━━━━━━━━━━━━\u001b[0m\u001b[37m\u001b[0m \u001b[1m0s\u001b[0m 11ms/step - loss: 0.0440 - mae: 0.1753 - val_loss: 0.1502 - val_mae: 0.3332\n",
      "Epoch 19/20\n",
      "\u001b[1m10/10\u001b[0m \u001b[32m━━━━━━━━━━━━━━━━━━━━\u001b[0m\u001b[37m\u001b[0m \u001b[1m0s\u001b[0m 13ms/step - loss: 0.0411 - mae: 0.1662 - val_loss: 0.1511 - val_mae: 0.3323\n",
      "Epoch 20/20\n",
      "\u001b[1m10/10\u001b[0m \u001b[32m━━━━━━━━━━━━━━━━━━━━\u001b[0m\u001b[37m\u001b[0m \u001b[1m0s\u001b[0m 15ms/step - loss: 0.0480 - mae: 0.1884 - val_loss: 0.1482 - val_mae: 0.3313\n"
     ]
    },
    {
     "data": {
      "image/png": "[encoded data removed]",
      "text/plain": [
       "<Figure size 640x480 with 1 Axes>"
      ]
     },
     "metadata": {},
     "output_type": "display_data"
    },
    {
     "data": {
      "image/png": "[encoded data removed]",
      "text/plain": [
       "<Figure size 640x480 with 1 Axes>"
      ]
     },
     "metadata": {},
     "output_type": "display_data"
    }
   ],
   "source": [
    "# 4.How can you visualize the training progress using TensorFlow and Matplotlib\n",
    "\n",
    "import tensorflow as tf\n",
    "from tensorflow.keras.models import Sequential\n",
    "from tensorflow.keras.layers import Dense\n",
    "import matplotlib.pyplot as plt\n",
    "import numpy as np\n",
    "\n",
    "# Dummy data\n",
    "x_train = np.random.rand(100, 10)\n",
    "y_train = np.random.rand(100, 1)\n",
    "\n",
    "# Define a simple model\n",
    "model = Sequential([\n",
    "    Dense(64, activation='relu', input_shape=(10,)),\n",
    "    Dense(1)\n",
    "])\n",
    "\n",
    "# Compile the model\n",
    "model.compile(optimizer='adam', loss='mean_squared_error', metrics=['mae'])\n",
    "\n",
    "# Train and store the history\n",
    "history = model.fit(x_train, y_train, epochs=20, batch_size=8, validation_split=0.2)\n",
    "\n",
    "# Plot training & validation loss values\n",
    "plt.plot(history.history['loss'], label='Train Loss')\n",
    "plt.plot(history.history['val_loss'], label='Val Loss')\n",
    "plt.title('Model Loss Over Epochs')\n",
    "plt.xlabel('Epoch')\n",
    "plt.ylabel('Loss')\n",
    "plt.legend()\n",
    "plt.grid(True)\n",
    "plt.show()\n",
    "\n",
    "# Plot MAE if applicable\n",
    "plt.plot(history.history['mae'], label='Train MAE')\n",
    "plt.plot(history.history['val_mae'], label='Val MAE')\n",
    "plt.title('Model MAE Over Epochs')\n",
    "plt.xlabel('Epoch')\n",
    "plt.ylabel('Mean Absolute Error')\n",
    "plt.legend()\n",
    "plt.grid(True)\n",
    "plt.show()\n",
    "\n"
   ]
  },
  {
   "cell_type": "code",
   "execution_count": 11,
   "id": "e8c46521-b05e-4793-96c6-84a546e12ada",
   "metadata": {},
   "outputs": [
    {
     "name": "stdout",
     "output_type": "stream",
     "text": [
      "PyTorch version: 2.7.1+cpu\n",
      "CUDA available: False\n"
     ]
    }
   ],
   "source": [
    "# 5.How do you install PyTorch and verify the PyTorch installation\n",
    "\n",
    "\n",
    "  #command to install pytorch \n",
    "#    pip install torch torchvision torchaudio\n",
    "\n",
    "import torch\n",
    "\n",
    "print(\"PyTorch version:\", torch.__version__)\n",
    "print(\"CUDA available:\", torch.cuda.is_available())\n",
    "\n",
    "\n"
   ]
  },
  {
   "cell_type": "code",
   "execution_count": 12,
   "id": "17328fb7-1420-4eb9-bed0-ab1dcbf33494",
   "metadata": {},
   "outputs": [
    {
     "name": "stdout",
     "output_type": "stream",
     "text": [
      "Epoch 1, Loss: 1.1810\n",
      "Epoch 2, Loss: 1.0929\n",
      "Epoch 3, Loss: 1.0307\n",
      "Epoch 4, Loss: 0.9830\n",
      "Epoch 5, Loss: 0.9448\n",
      "Epoch 6, Loss: 0.9126\n",
      "Epoch 7, Loss: 0.8838\n",
      "Epoch 8, Loss: 0.8565\n",
      "Epoch 9, Loss: 0.8292\n",
      "Epoch 10, Loss: 0.8013\n"
     ]
    }
   ],
   "source": [
    "# 6.How do you create a simple neural network in PyTorch\n",
    "\n",
    "import torch\n",
    "import torch.nn as nn\n",
    "import torch.nn.functional as F\n",
    "\n",
    "class SimpleNN(nn.Module):\n",
    "    def __init__(self):\n",
    "        super(SimpleNN, self).__init__()\n",
    "        self.fc1 = nn.Linear(10, 64)   # Input layer (10 features) → 64 hidden units\n",
    "        self.fc2 = nn.Linear(64, 1)    # Output layer → 1 output unit (e.g., regression)\n",
    "\n",
    "    def forward(self, x):\n",
    "        x = F.relu(self.fc1(x))        # ReLU activation\n",
    "        x = self.fc2(x)                # No activation (for regression)\n",
    "        return x\n",
    "\n",
    "\n",
    "model = SimpleNN()\n",
    "\n",
    "criterion = nn.MSELoss()                       # Mean Squared Error loss\n",
    "optimizer = torch.optim.Adam(model.parameters(), lr=0.01)  # Adam optimizer\n",
    "\n",
    "\n",
    "\n",
    "\n",
    "x_train = torch.randn(100, 10)   # 100 samples, 10 features each\n",
    "y_train = torch.randn(100, 1)    # 100 target values\n",
    "\n",
    "\n",
    "for epoch in range(10):\n",
    "    model.train()\n",
    "\n",
    "    # Forward pass\n",
    "    outputs = model(x_train)\n",
    "    loss = criterion(outputs, y_train)\n",
    "\n",
    "    # Backward pass and optimization\n",
    "    optimizer.zero_grad()\n",
    "    loss.backward()\n",
    "    optimizer.step()\n",
    "\n",
    "    print(f\"Epoch {epoch+1}, Loss: {loss.item():.4f}\")\n",
    "\n"
   ]
  },
  {
   "cell_type": "code",
   "execution_count": null,
   "id": "99f9917f-1c52-4c6c-b2f4-f4fe108c3722",
   "metadata": {},
   "outputs": [],
   "source": [
    "# 7.How do you define a loss function and optimizer in PyTorch\n",
    "criterion = nn.MSELoss()\n",
    "criterion = nn.CrossEntropyLoss()\n",
    "\n",
    "optimizer = optim.SGD(model.parameters(), lr=0.01)\n",
    "# or\n",
    "optimizer = optim.Adam(model.parameters(), lr=0.001)\n",
    "\n"
   ]
  },
  {
   "cell_type": "code",
   "execution_count": null,
   "id": "629f842e-3fd4-400a-867a-ac3736e6170f",
   "metadata": {},
   "outputs": [],
   "source": [
    "# 8.How do you implement a custom loss function in PyTorch\n",
    "\n",
    "import torch\n",
    "\n",
    "def custom_mae_loss(output, target):\n",
    "    return torch.mean(torch.abs(output - target))\n",
    "    \n",
    "loss = custom_mae_loss(predictions, targets)\n",
    "\n",
    "\n",
    "\n"
   ]
  },
  {
   "cell_type": "code",
   "execution_count": null,
   "id": "62f552b0-deb0-4040-98d7-42acbae6d653",
   "metadata": {},
   "outputs": [],
   "source": [
    "# 9.How do you save and load a TensorFlow model?\n"
   ]
  },
  {
   "cell_type": "markdown",
   "id": "9c9ca0d4-5144-444a-8afe-f00743e7b665",
   "metadata": {},
   "source": [
    "### two ways ,which are given below\n",
    "1. SavedModel Format (Recommended for deployment)\n",
    "Default format used in TensorFlow.\n",
    "\n",
    "Includes architecture, weights, optimizer, and training config.\n",
    "\n",
    "2. HDF5 Format (.h5)\n",
    "Good for Keras-style workflows or single-file export.\n"
   ]
  },
  {
   "cell_type": "code",
   "execution_count": null,
   "id": "995a6135-e89b-4fcc-b922-5411f7663b91",
   "metadata": {},
   "outputs": [],
   "source": [
    "#method 1.\n",
    "\n",
    "\n",
    "model.save('my_model')  # Creates a folder with all files\n",
    "\n",
    "\n",
    "#load the models\n",
    "\n",
    "import tensorflow as tf\n",
    "model = tf.keras.models.load_model('my_model')\n"
   ]
  },
  {
   "cell_type": "code",
   "execution_count": null,
   "id": "881b2564-ffe7-4188-b07e-e30c6029446c",
   "metadata": {},
   "outputs": [],
   "source": [
    "#mothodd 2.\n",
    "\n",
    "model.save('my_model.h5')  # Save to HDF5 file\n",
    "\n",
    "\n",
    "model = tf.keras.models.load_model('my_model.h5')\n",
    "\n"
   ]
  }
 ],
 "metadata": {
  "kernelspec": {
   "display_name": "Python 3 (ipykernel)",
   "language": "python",
   "name": "python3"
  },
  "language_info": {
   "codemirror_mode": {
    "name": "ipython",
    "version": 3
   },
   "file_extension": ".py",
   "mimetype": "text/x-python",
   "name": "python",
   "nbconvert_exporter": "python",
   "pygments_lexer": "ipython3",
   "version": "3.12.6"
  }
 },
 "nbformat": 4,
 "nbformat_minor": 5
}
